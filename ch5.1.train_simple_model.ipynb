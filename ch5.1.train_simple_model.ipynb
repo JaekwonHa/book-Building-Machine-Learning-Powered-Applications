{
 "cells": [
  {
   "cell_type": "markdown",
   "source": [
    "# 간단한 모델 훈련하기\n",
    "\n",
    "데이터셋을 수집, 정제, 포맷팅하고 훈련 세트와 테스트 세트로 분할했습니다. 이전 [노트북](https://github.com/rickiepark/ml-powered-applications/blob/master/notebooks/exploring_data_to_generate_features.ipynb)에서 벡터 특성을 만들었습니다. 이제 첫 번째 간단한 모델을 훈련해 보죠.\n",
    "\n",
    "먼저 데이터를 로드하고 포맷팅합니다."
   ],
   "metadata": {
    "collapsed": false
   }
  },
  {
   "cell_type": "code",
   "execution_count": 27,
   "outputs": [],
   "source": [
    "import pandas as pd\n",
    "import numpy as np\n",
    "import matplotlib.pyplot as plt\n",
    "from pathlib import Path\n",
    "from sklearn.ensemble import RandomForestClassifier\n",
    "from sklearn.metrics import accuracy_score, f1_score, precision_score, recall_score, classification_report\n",
    "import joblib\n",
    "import sys\n",
    "sys.path.append(\"..\")\n",
    "np.random.seed(35)\n",
    "import warnings\n",
    "warnings.filterwarnings('ignore')\n",
    "\n",
    "from ml_editor.data_processing import (\n",
    "    format_raw_df,\n",
    "    add_text_features_to_df,\n",
    "    get_feature_vector_and_label,\n",
    "    get_split_by_author,\n",
    "    get_vectorized_inputs_and_label,\n",
    "    get_vectorized_series,\n",
    "    train_vectorizer,\n",
    ")\n",
    "\n",
    "\n",
    "data_path = Path('data/writers.csv')\n",
    "df = pd.read_csv(data_path)\n",
    "df = format_raw_df(df.copy())\n",
    "\n",
    "df = df.loc[df[\"is_question\"]].copy()"
   ],
   "metadata": {
    "collapsed": false
   }
  },
  {
   "cell_type": "markdown",
   "source": [
    "그다음 특성을 추가하고 벡터로 변환하고 훈련/테스트 세트로 나눕니다."
   ],
   "metadata": {
    "collapsed": false
   }
  },
  {
   "cell_type": "code",
   "execution_count": 28,
   "outputs": [],
   "source": [
    "df = add_text_features_to_df(df.copy())\n",
    "train_df, test_df = get_split_by_author(df, test_size=0.2, random_state=40)\n",
    "\n",
    "vectorizer = train_vectorizer(train_df)\n",
    "train_df[\"vectors\"] = get_vectorized_series(train_df[\"full_text\"].copy(), vectorizer)\n",
    "test_df[\"vectors\"] = get_vectorized_series(test_df[\"full_text\"].copy(), vectorizer)"
   ],
   "metadata": {
    "collapsed": false
   }
  },
  {
   "cell_type": "code",
   "execution_count": 29,
   "outputs": [],
   "source": [
    "features = [\n",
    "                \"action_verb_full\",\n",
    "                \"question_mark_full\",\n",
    "                \"text_len\",\n",
    "                \"language_question\",\n",
    "            ]\n",
    "X_train, y_train = get_feature_vector_and_label(train_df, features)\n",
    "X_test, y_test = get_feature_vector_and_label(test_df, features)"
   ],
   "metadata": {
    "collapsed": false
   }
  },
  {
   "cell_type": "markdown",
   "source": [
    "특성과 레이블이 준비되면 `sklearn`을 사용해 몇 줄의 코드로 모델을 훈련할 수 있습니다."
   ],
   "metadata": {
    "collapsed": false
   }
  },
  {
   "cell_type": "code",
   "execution_count": 30,
   "outputs": [],
   "source": [
    "clf = RandomForestClassifier(n_estimators=100, class_weight='balanced', oob_score=True)\n",
    "clf.fit(X_train, y_train)\n",
    "\n",
    "y_predicted = clf.predict(X_test)\n",
    "y_predicted_proba = clf.predict_proba(X_test)"
   ],
   "metadata": {
    "collapsed": false
   }
  },
  {
   "cell_type": "code",
   "execution_count": 31,
   "outputs": [
    {
     "data": {
      "text/plain": "array([[0.35, 0.65],\n       [0.51, 0.49],\n       [0.58, 0.42],\n       ...,\n       [0.5 , 0.5 ],\n       [0.34, 0.66],\n       [0.44, 0.56]])"
     },
     "execution_count": 31,
     "metadata": {},
     "output_type": "execute_result"
    }
   ],
   "source": [
    "y_predicted_proba"
   ],
   "metadata": {
    "collapsed": false
   }
  },
  {
   "cell_type": "code",
   "execution_count": 32,
   "outputs": [
    {
     "data": {
      "text/plain": "Score\nFalse    3483\nTrue     2959\nName: count, dtype: int64"
     },
     "execution_count": 32,
     "metadata": {},
     "output_type": "execute_result"
    }
   ],
   "source": [
    "y_train.value_counts()"
   ],
   "metadata": {
    "collapsed": false
   }
  },
  {
   "cell_type": "markdown",
   "source": [
    "## 측정 지표\n",
    "\n",
    "모델을 훈련하고 나면 결과를 평가할 차례입니다. 단순 지표부터 시작해 보죠."
   ],
   "metadata": {
    "collapsed": false
   }
  },
  {
   "cell_type": "code",
   "execution_count": 33,
   "outputs": [],
   "source": [
    "def get_metrics(y_test, y_predicted):\n",
    "    # 진짜 양성 / (진짜 양성 + 가짜 양성)\n",
    "    precision = precision_score(y_test, y_predicted, pos_label=None, average='weighted')\n",
    "\n",
    "    # 진짜 양성 / (진짜 양성 + 가짜 음성)\n",
    "    recall = recall_score(y_test, y_predicted, pos_label=None, average='weighted')\n",
    "\n",
    "    # 정밀도와 재현율의 조화 평균\n",
    "    f1 = f1_score(y_test, y_predicted, pos_label=None, average='weighted')\n",
    "\n",
    "    # 진짜 양성 + 진짜 음성 / 전체\n",
    "    accuracy = accuracy_score(y_test, y_predicted)\n",
    "    return accuracy, precision, recall, f1"
   ],
   "metadata": {
    "collapsed": false
   }
  },
  {
   "cell_type": "code",
   "execution_count": 34,
   "outputs": [
    {
     "name": "stdout",
     "output_type": "stream",
     "text": [
      "훈련 정확도 = 0.591, 정밀도 = 0.588, 재현율 = 0.591, f1 = 0.587\n"
     ]
    }
   ],
   "source": [
    "# 훈련 정확도\n",
    "# https://datascience.stackexchange.com/questions/13151/randomforestclassifier-oob-scoring-method 참조\n",
    "y_train_pred = np.argmax(clf.oob_decision_function_,axis=1)\n",
    "\n",
    "accuracy, precision, recall, f1 = get_metrics(y_train, y_train_pred)\n",
    "print(\"훈련 정확도 = %.3f, 정밀도 = %.3f, 재현율 = %.3f, f1 = %.3f\" % (accuracy, precision, recall, f1))"
   ],
   "metadata": {
    "collapsed": false
   }
  },
  {
   "cell_type": "code",
   "execution_count": 35,
   "outputs": [
    {
     "name": "stdout",
     "output_type": "stream",
     "text": [
      "검증 정확도 = 0.625, 정밀도 = 0.626, 재현율 = 0.625, f1 = 0.622\n"
     ]
    }
   ],
   "source": [
    "accuracy, precision, recall, f1 = get_metrics(y_test, y_predicted)\n",
    "print(\"검증 정확도 = %.3f, 정밀도 = %.3f, 재현율 = %.3f, f1 = %.3f\" % (accuracy, precision, recall, f1))"
   ],
   "metadata": {
    "collapsed": false
   }
  },
  {
   "cell_type": "markdown",
   "source": [
    "첫 번째 모델이 잘 동작하는 것 같습니다. 적어도 랜덤 예측보다는 성능이 낫기 때문에 첫 번째 시도로는 고무적입니다. 추후 분석과 사용을 위해 훈련된 모델과 벡터화 객체를 디스크에 저장합니다."
   ],
   "metadata": {
    "collapsed": false
   }
  },
  {
   "cell_type": "code",
   "execution_count": 36,
   "outputs": [
    {
     "data": {
      "text/plain": "['models/vectorizer_1.pkl']"
     },
     "execution_count": 36,
     "metadata": {},
     "output_type": "execute_result"
    }
   ],
   "source": [
    "model_path = Path(\"models/model_1.pkl\")\n",
    "vectorizer_path = Path(\"models/vectorizer_1.pkl\")\n",
    "joblib.dump(clf, model_path)\n",
    "joblib.dump(vectorizer, vectorizer_path)"
   ],
   "metadata": {
    "collapsed": false
   }
  },
  {
   "cell_type": "markdown",
   "source": [
    "## 추론 함수\n",
    "\n",
    "\n",
    "훈련된 모델을 본 적 없는 데이터에서 사용하기 위해 추론 함수를 정의하고 사용합니다. 아래 함수는 임의의 질문을 받고 높은 점수를 받을 추정 확률을 출력합니다."
   ],
   "metadata": {
    "collapsed": false
   }
  },
  {
   "cell_type": "code",
   "execution_count": 38,
   "outputs": [
    {
     "name": "stdout",
     "output_type": "stream",
     "text": [
      "이 질문이 양성 샘플일 확률: 0.19\n"
     ]
    }
   ],
   "source": [
    "from ml_editor.model_v1 import get_model_probabilities_for_input_texts\n",
    "\n",
    "\n",
    "# The inference function expects an array of questions, so we created an array of length 1 to pass a single question\n",
    "test_q = [\"bad question\"]\n",
    "probs = get_model_probabilities_for_input_texts(test_q)\n",
    "\n",
    "# Index 1 corresponds to the positive class here\n",
    "print(\"이 질문이 양성 샘플일 확률: %s\" % (probs[0][1]))"
   ],
   "metadata": {
    "collapsed": false
   }
  }
 ],
 "metadata": {
  "kernelspec": {
   "display_name": "Python 3",
   "language": "python",
   "name": "python3"
  },
  "language_info": {
   "codemirror_mode": {
    "name": "ipython",
    "version": 2
   },
   "file_extension": ".py",
   "mimetype": "text/x-python",
   "name": "python",
   "nbconvert_exporter": "python",
   "pygments_lexer": "ipython2",
   "version": "2.7.6"
  }
 },
 "nbformat": 4,
 "nbformat_minor": 0
}
