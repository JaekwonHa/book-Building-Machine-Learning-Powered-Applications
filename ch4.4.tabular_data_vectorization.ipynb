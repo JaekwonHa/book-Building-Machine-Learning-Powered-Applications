{
 "cells": [
  {
   "cell_type": "markdown",
   "source": [
    "# 표 형식 특성 벡터화하기"
   ],
   "metadata": {
    "collapsed": false
   }
  },
  {
   "cell_type": "markdown",
   "source": [
    "이 노트북은 다른 예제와 동일한 테이터셋을 사용해 표 형태 데이터를 벡터화하는 간단한 방법을 다룹니다. 하지만 이번에는 질문 텍스트를 무시합니다."
   ],
   "metadata": {
    "collapsed": false
   }
  },
  {
   "cell_type": "code",
   "execution_count": 5,
   "outputs": [],
   "source": [
    "def get_normalized_series(df, col):\n",
    "    \"\"\"\n",
    "    DataFrame 열을 정규화합니다.\n",
    "    :param df: DataFrame\n",
    "    :param col: 열 이름\n",
    "    :return: Z-점수를 사용해 정규화된 시리즈 객체\n",
    "    \"\"\"\n",
    "    return (df[col] - df[col].mean()) / df[col].std()"
   ],
   "metadata": {
    "collapsed": false
   }
  },
  {
   "cell_type": "code",
   "execution_count": 2,
   "outputs": [],
   "source": [
    "import pandas as pd\n",
    "from pathlib import Path\n",
    "import sys\n",
    "sys.path.append(\"..\")\n",
    "import warnings\n",
    "warnings.filterwarnings('ignore')\n",
    "\n",
    "data_path = Path(\"data/writers.csv\")\n",
    "df = pd.read_csv(data_path)"
   ],
   "metadata": {
    "collapsed": false
   }
  },
  {
   "cell_type": "markdown",
   "source": [
    "태그, 코멘트 개수, 질문 날짜로부터 **점수**를 예측한다고 가정해 보죠. 이 데이터는 다음과 같습니다."
   ],
   "metadata": {
    "collapsed": false
   }
  },
  {
   "cell_type": "code",
   "execution_count": 3,
   "outputs": [
    {
     "data": {
      "text/plain": "                                           Tags  CommentCount   \n0                <resources><first-time-author>             7  \\\n1   <fiction><grammatical-person><third-person>             0   \n2                    <publishing><novel><agent>             1   \n3  <plot><short-story><planning><brainstorming>             0   \n4                  <fiction><genre><categories>             1   \n\n              CreationDate  Score  \n0  2010-11-18T20:40:32.857     32  \n1  2010-11-18T20:42:31.513     20  \n2  2010-11-18T20:43:28.903     34  \n3  2010-11-18T20:43:59.693     28  \n4  2010-11-18T20:45:44.067     21  ",
      "text/html": "<div>\n<style scoped>\n    .dataframe tbody tr th:only-of-type {\n        vertical-align: middle;\n    }\n\n    .dataframe tbody tr th {\n        vertical-align: top;\n    }\n\n    .dataframe thead th {\n        text-align: right;\n    }\n</style>\n<table border=\"1\" class=\"dataframe\">\n  <thead>\n    <tr style=\"text-align: right;\">\n      <th></th>\n      <th>Tags</th>\n      <th>CommentCount</th>\n      <th>CreationDate</th>\n      <th>Score</th>\n    </tr>\n  </thead>\n  <tbody>\n    <tr>\n      <th>0</th>\n      <td>&lt;resources&gt;&lt;first-time-author&gt;</td>\n      <td>7</td>\n      <td>2010-11-18T20:40:32.857</td>\n      <td>32</td>\n    </tr>\n    <tr>\n      <th>1</th>\n      <td>&lt;fiction&gt;&lt;grammatical-person&gt;&lt;third-person&gt;</td>\n      <td>0</td>\n      <td>2010-11-18T20:42:31.513</td>\n      <td>20</td>\n    </tr>\n    <tr>\n      <th>2</th>\n      <td>&lt;publishing&gt;&lt;novel&gt;&lt;agent&gt;</td>\n      <td>1</td>\n      <td>2010-11-18T20:43:28.903</td>\n      <td>34</td>\n    </tr>\n    <tr>\n      <th>3</th>\n      <td>&lt;plot&gt;&lt;short-story&gt;&lt;planning&gt;&lt;brainstorming&gt;</td>\n      <td>0</td>\n      <td>2010-11-18T20:43:59.693</td>\n      <td>28</td>\n    </tr>\n    <tr>\n      <th>4</th>\n      <td>&lt;fiction&gt;&lt;genre&gt;&lt;categories&gt;</td>\n      <td>1</td>\n      <td>2010-11-18T20:45:44.067</td>\n      <td>21</td>\n    </tr>\n  </tbody>\n</table>\n</div>"
     },
     "execution_count": 3,
     "metadata": {},
     "output_type": "execute_result"
    }
   ],
   "source": [
    "df[\"is_question\"] = df[\"PostTypeId\"] == 1\n",
    "\n",
    "tabular_df = df[df[\"is_question\"]][[\"Tags\", \"CommentCount\", \"CreationDate\", \"Score\"]]\n",
    "tabular_df.head()"
   ],
   "metadata": {
    "collapsed": false
   }
  },
  {
   "cell_type": "markdown",
   "source": [
    "이 데이터를 모델의 입력으로 사용하기 위해 적절한 수치 표현으로 바꾸어야 합니다. 이렇게 하기 위해 다음 세 가지 작업을 합니다:\n",
    "\n",
    "1. 수치 입력 특성을 정규화하여 이상치로 인한 영향을 줄입니다.\n",
    "2. 날짜 특성을 모델이 이해하기 쉬운 형태로 변환합니다.\n",
    "3. 모델이 범주형 특성을 이해할 수 있도록 더미(dummy) 변수로 바꿉니다.\n",
    "\n",
    "먼저 데이터를 정규화하여 이상치가 모델 성능에 미치는 영향을 줄입니다."
   ],
   "metadata": {
    "collapsed": false
   }
  },
  {
   "cell_type": "code",
   "execution_count": 6,
   "outputs": [],
   "source": [
    "tabular_df[\"NormComment\"]= get_normalized_series(tabular_df, \"CommentCount\")\n",
    "tabular_df[\"NormScore\"]= get_normalized_series(tabular_df, \"Score\")"
   ],
   "metadata": {
    "collapsed": false
   }
  },
  {
   "cell_type": "code",
   "execution_count": 7,
   "outputs": [
    {
     "data": {
      "text/plain": "                                           Tags  CommentCount   \n0                <resources><first-time-author>             7  \\\n1   <fiction><grammatical-person><third-person>             0   \n2                    <publishing><novel><agent>             1   \n3  <plot><short-story><planning><brainstorming>             0   \n4                  <fiction><genre><categories>             1   \n\n              CreationDate  Score  NormComment  NormScore  \n0  2010-11-18T20:40:32.857     32     1.405553    3.66092  \n1  2010-11-18T20:42:31.513     20    -0.878113    2.02388  \n2  2010-11-18T20:43:28.903     34    -0.551875    3.93376  \n3  2010-11-18T20:43:59.693     28    -0.878113    3.11524  \n4  2010-11-18T20:45:44.067     21    -0.551875    2.16030  ",
      "text/html": "<div>\n<style scoped>\n    .dataframe tbody tr th:only-of-type {\n        vertical-align: middle;\n    }\n\n    .dataframe tbody tr th {\n        vertical-align: top;\n    }\n\n    .dataframe thead th {\n        text-align: right;\n    }\n</style>\n<table border=\"1\" class=\"dataframe\">\n  <thead>\n    <tr style=\"text-align: right;\">\n      <th></th>\n      <th>Tags</th>\n      <th>CommentCount</th>\n      <th>CreationDate</th>\n      <th>Score</th>\n      <th>NormComment</th>\n      <th>NormScore</th>\n    </tr>\n  </thead>\n  <tbody>\n    <tr>\n      <th>0</th>\n      <td>&lt;resources&gt;&lt;first-time-author&gt;</td>\n      <td>7</td>\n      <td>2010-11-18T20:40:32.857</td>\n      <td>32</td>\n      <td>1.405553</td>\n      <td>3.66092</td>\n    </tr>\n    <tr>\n      <th>1</th>\n      <td>&lt;fiction&gt;&lt;grammatical-person&gt;&lt;third-person&gt;</td>\n      <td>0</td>\n      <td>2010-11-18T20:42:31.513</td>\n      <td>20</td>\n      <td>-0.878113</td>\n      <td>2.02388</td>\n    </tr>\n    <tr>\n      <th>2</th>\n      <td>&lt;publishing&gt;&lt;novel&gt;&lt;agent&gt;</td>\n      <td>1</td>\n      <td>2010-11-18T20:43:28.903</td>\n      <td>34</td>\n      <td>-0.551875</td>\n      <td>3.93376</td>\n    </tr>\n    <tr>\n      <th>3</th>\n      <td>&lt;plot&gt;&lt;short-story&gt;&lt;planning&gt;&lt;brainstorming&gt;</td>\n      <td>0</td>\n      <td>2010-11-18T20:43:59.693</td>\n      <td>28</td>\n      <td>-0.878113</td>\n      <td>3.11524</td>\n    </tr>\n    <tr>\n      <th>4</th>\n      <td>&lt;fiction&gt;&lt;genre&gt;&lt;categories&gt;</td>\n      <td>1</td>\n      <td>2010-11-18T20:45:44.067</td>\n      <td>21</td>\n      <td>-0.551875</td>\n      <td>2.16030</td>\n    </tr>\n  </tbody>\n</table>\n</div>"
     },
     "execution_count": 7,
     "metadata": {},
     "output_type": "execute_result"
    }
   ],
   "source": [
    "tabular_df.head()"
   ],
   "metadata": {
    "collapsed": false
   }
  },
  {
   "cell_type": "markdown",
   "source": [
    "이제 날짜를 모델이 패턴을 추출하기 쉬운 형태로 표현해 보죠(특정 특성을 선택한 이유에 대한 자세한 내용은 책의 4장을 참고하세요)."
   ],
   "metadata": {
    "collapsed": false
   }
  },
  {
   "cell_type": "code",
   "execution_count": 8,
   "outputs": [],
   "source": [
    "# 날짜를 판다스 datetime으로 변환합니다.\n",
    "tabular_df[\"date\"] = pd.to_datetime(tabular_df[\"CreationDate\"])\n",
    "\n",
    "# datetime 객체에서 의미있는 특성을 추출합니다.\n",
    "tabular_df[\"year\"] = tabular_df[\"date\"].dt.year\n",
    "tabular_df[\"month\"] = tabular_df[\"date\"].dt.month\n",
    "tabular_df[\"day\"] = tabular_df[\"date\"].dt.day\n",
    "tabular_df[\"hour\"] = tabular_df[\"date\"].dt.hour"
   ],
   "metadata": {
    "collapsed": false
   }
  },
  {
   "cell_type": "code",
   "execution_count": 9,
   "outputs": [
    {
     "data": {
      "text/plain": "                                           Tags  CommentCount   \n0                <resources><first-time-author>             7  \\\n1   <fiction><grammatical-person><third-person>             0   \n2                    <publishing><novel><agent>             1   \n3  <plot><short-story><planning><brainstorming>             0   \n4                  <fiction><genre><categories>             1   \n\n              CreationDate  Score  NormComment  NormScore   \n0  2010-11-18T20:40:32.857     32     1.405553    3.66092  \\\n1  2010-11-18T20:42:31.513     20    -0.878113    2.02388   \n2  2010-11-18T20:43:28.903     34    -0.551875    3.93376   \n3  2010-11-18T20:43:59.693     28    -0.878113    3.11524   \n4  2010-11-18T20:45:44.067     21    -0.551875    2.16030   \n\n                     date  year  month  day  hour  \n0 2010-11-18 20:40:32.857  2010     11   18    20  \n1 2010-11-18 20:42:31.513  2010     11   18    20  \n2 2010-11-18 20:43:28.903  2010     11   18    20  \n3 2010-11-18 20:43:59.693  2010     11   18    20  \n4 2010-11-18 20:45:44.067  2010     11   18    20  ",
      "text/html": "<div>\n<style scoped>\n    .dataframe tbody tr th:only-of-type {\n        vertical-align: middle;\n    }\n\n    .dataframe tbody tr th {\n        vertical-align: top;\n    }\n\n    .dataframe thead th {\n        text-align: right;\n    }\n</style>\n<table border=\"1\" class=\"dataframe\">\n  <thead>\n    <tr style=\"text-align: right;\">\n      <th></th>\n      <th>Tags</th>\n      <th>CommentCount</th>\n      <th>CreationDate</th>\n      <th>Score</th>\n      <th>NormComment</th>\n      <th>NormScore</th>\n      <th>date</th>\n      <th>year</th>\n      <th>month</th>\n      <th>day</th>\n      <th>hour</th>\n    </tr>\n  </thead>\n  <tbody>\n    <tr>\n      <th>0</th>\n      <td>&lt;resources&gt;&lt;first-time-author&gt;</td>\n      <td>7</td>\n      <td>2010-11-18T20:40:32.857</td>\n      <td>32</td>\n      <td>1.405553</td>\n      <td>3.66092</td>\n      <td>2010-11-18 20:40:32.857</td>\n      <td>2010</td>\n      <td>11</td>\n      <td>18</td>\n      <td>20</td>\n    </tr>\n    <tr>\n      <th>1</th>\n      <td>&lt;fiction&gt;&lt;grammatical-person&gt;&lt;third-person&gt;</td>\n      <td>0</td>\n      <td>2010-11-18T20:42:31.513</td>\n      <td>20</td>\n      <td>-0.878113</td>\n      <td>2.02388</td>\n      <td>2010-11-18 20:42:31.513</td>\n      <td>2010</td>\n      <td>11</td>\n      <td>18</td>\n      <td>20</td>\n    </tr>\n    <tr>\n      <th>2</th>\n      <td>&lt;publishing&gt;&lt;novel&gt;&lt;agent&gt;</td>\n      <td>1</td>\n      <td>2010-11-18T20:43:28.903</td>\n      <td>34</td>\n      <td>-0.551875</td>\n      <td>3.93376</td>\n      <td>2010-11-18 20:43:28.903</td>\n      <td>2010</td>\n      <td>11</td>\n      <td>18</td>\n      <td>20</td>\n    </tr>\n    <tr>\n      <th>3</th>\n      <td>&lt;plot&gt;&lt;short-story&gt;&lt;planning&gt;&lt;brainstorming&gt;</td>\n      <td>0</td>\n      <td>2010-11-18T20:43:59.693</td>\n      <td>28</td>\n      <td>-0.878113</td>\n      <td>3.11524</td>\n      <td>2010-11-18 20:43:59.693</td>\n      <td>2010</td>\n      <td>11</td>\n      <td>18</td>\n      <td>20</td>\n    </tr>\n    <tr>\n      <th>4</th>\n      <td>&lt;fiction&gt;&lt;genre&gt;&lt;categories&gt;</td>\n      <td>1</td>\n      <td>2010-11-18T20:45:44.067</td>\n      <td>21</td>\n      <td>-0.551875</td>\n      <td>2.16030</td>\n      <td>2010-11-18 20:45:44.067</td>\n      <td>2010</td>\n      <td>11</td>\n      <td>18</td>\n      <td>20</td>\n    </tr>\n  </tbody>\n</table>\n</div>"
     },
     "execution_count": 9,
     "metadata": {},
     "output_type": "execute_result"
    }
   ],
   "source": [
    "tabular_df.head()"
   ],
   "metadata": {
    "collapsed": false
   }
  },
  {
   "cell_type": "markdown",
   "source": [
    "마지막으로 태그를 판다스의 [get_dummies](https://pandas.pydata.org/pandas-docs/stable/reference/api/pandas.get_dummies.html) 함수를 사용해 더비 변수로 변환합니다. 각 태그는 하나의 더비 변수에 할당됩니다."
   ],
   "metadata": {
    "collapsed": false
   }
  },
  {
   "cell_type": "markdown",
   "source": [
    "> Tags에 데해서 one-hot 인코딩을 하는 과정"
   ],
   "metadata": {
    "collapsed": false
   }
  },
  {
   "cell_type": "code",
   "execution_count": 14,
   "outputs": [
    {
     "ename": "AttributeError",
     "evalue": "'numpy.ndarray' object has no attribute 'index'",
     "output_type": "error",
     "traceback": [
      "\u001B[0;31m---------------------------------------------------------------------------\u001B[0m",
      "\u001B[0;31mAttributeError\u001B[0m                            Traceback (most recent call last)",
      "Cell \u001B[0;32mIn[14], line 11\u001B[0m\n\u001B[1;32m      9\u001B[0m all_tags \u001B[38;5;241m=\u001B[39m tag_columns\u001B[38;5;241m.\u001B[39mastype(\u001B[38;5;28mbool\u001B[39m)\u001B[38;5;241m.\u001B[39msum(axis\u001B[38;5;241m=\u001B[39m\u001B[38;5;241m0\u001B[39m)\n\u001B[1;32m     10\u001B[0m top_tags \u001B[38;5;241m=\u001B[39m all_tags[all_tags \u001B[38;5;241m>\u001B[39m \u001B[38;5;241m500\u001B[39m]\n\u001B[0;32m---> 11\u001B[0m top_tag_columns \u001B[38;5;241m=\u001B[39m tag_columns[\u001B[43mtop_tags\u001B[49m\u001B[38;5;241;43m.\u001B[39;49m\u001B[43mindex\u001B[49m]\u001B[38;5;241m.\u001B[39msort_values(ascending\u001B[38;5;241m=\u001B[39m\u001B[38;5;28;01mFalse\u001B[39;00m)\n",
      "\u001B[0;31mAttributeError\u001B[0m: 'numpy.ndarray' object has no attribute 'index'"
     ]
    }
   ],
   "source": [
    "# 문자열로 표현된 태그를 태그 배열로 변환합니다.\n",
    "tags = tabular_df[\"Tags\"]\n",
    "clean_tags = tags.str.split(\"><\").apply(\n",
    "    lambda x: [a.strip(\"<\").strip(\">\") for a in x])\n",
    "\n",
    "# 판다스의 get_dummies 함수를 사용해 더미 변수를 만듭니다.\n",
    "# 500번 이상 나타난 태그만 선택합니다.\n",
    "tag_columns = pd.get_dummies(clean_tags.apply(pd.Series).stack()).sum(level=0)\n",
    "all_tags = tag_columns.astype(bool).sum(axis=0).sort_values(ascending=False)\n",
    "top_tags = all_tags[all_tags > 500]\n",
    "top_tag_columns = tag_columns[top_tags.index]"
   ],
   "metadata": {
    "collapsed": false
   }
  },
  {
   "cell_type": "code",
   "execution_count": 11,
   "outputs": [
    {
     "ename": "NameError",
     "evalue": "name 'top_tag_columns' is not defined",
     "output_type": "error",
     "traceback": [
      "\u001B[0;31m---------------------------------------------------------------------------\u001B[0m",
      "\u001B[0;31mNameError\u001B[0m                                 Traceback (most recent call last)",
      "Cell \u001B[0;32mIn[11], line 1\u001B[0m\n\u001B[0;32m----> 1\u001B[0m \u001B[43mtop_tag_columns\u001B[49m\u001B[38;5;241m.\u001B[39mhead()\n",
      "\u001B[0;31mNameError\u001B[0m: name 'top_tag_columns' is not defined"
     ]
    }
   ],
   "source": [
    "top_tag_columns.head()"
   ],
   "metadata": {
    "collapsed": false
   }
  },
  {
   "cell_type": "code",
   "execution_count": null,
   "outputs": [],
   "source": [
    "# 태그를 원래 DateFrame에 추가합니다.\n",
    "final = pd.concat([tabular_df, top_tag_columns], axis=1)\n",
    "\n",
    "# 벡터화된 특성만 남깁니다.\n",
    "col_to_keep = [\"year\", \"month\", \"day\", \"hour\", \"NormComment\",\n",
    "               \"NormScore\"] + list(top_tags.index)\n",
    "final_features = final[col_to_keep]"
   ],
   "metadata": {
    "collapsed": false
   }
  },
  {
   "cell_type": "code",
   "execution_count": null,
   "outputs": [],
   "source": [
    "final_features.head()"
   ],
   "metadata": {
    "collapsed": false
   }
  },
  {
   "cell_type": "markdown",
   "source": [
    "좋습니다. 이제 모델에 사용할 데이터가 준비되었습니다."
   ],
   "metadata": {
    "collapsed": false
   }
  }
 ],
 "metadata": {
  "kernelspec": {
   "display_name": "Python 3",
   "language": "python",
   "name": "python3"
  },
  "language_info": {
   "codemirror_mode": {
    "name": "ipython",
    "version": 2
   },
   "file_extension": ".py",
   "mimetype": "text/x-python",
   "name": "python",
   "nbconvert_exporter": "python",
   "pygments_lexer": "ipython2",
   "version": "2.7.6"
  }
 },
 "nbformat": 4,
 "nbformat_minor": 0
}
