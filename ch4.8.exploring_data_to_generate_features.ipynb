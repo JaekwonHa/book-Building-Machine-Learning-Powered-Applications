{
 "cells": [
  {
   "cell_type": "markdown",
   "source": [
    "# 벡터화로 특성 생성하기\n",
    "\n",
    "유용한 모델을 훈련하게 위해 먼저 모델이 사용할 관련성이 있는 특성을 찾아야 합니다.\n",
    "\n",
    "데이터를 탐색하여 유용한 패턴과 특성을 찾아 보겠습니다. 먼저 데이터를 벡터 공간에 임베딩하겠습니다."
   ],
   "metadata": {
    "collapsed": false
   }
  },
  {
   "cell_type": "code",
   "execution_count": 5,
   "outputs": [],
   "source": [
    "from sklearn.model_selection import GroupShuffleSplit\n",
    "\n",
    "\n",
    "def format_raw_df(df):\n",
    "    \"\"\"\n",
    "    데이터를 정제하고 질문과 대답을 합칩니다.\n",
    "    \"\"\"\n",
    "    df[\"PostTypeId\"] = df[\"PostTypeId\"].astype(int)\n",
    "    df[\"Id\"] = df[\"Id\"].astype(int)\n",
    "    df[\"AnswerCount\"] = df[\"AnswerCount\"].fillna(-1)\n",
    "    df[\"AnswerCount\"] = df[\"AnswerCount\"].astype(int)\n",
    "    df[\"OwnerUserId\"].fillna(-1, inplace=True)\n",
    "    df[\"OwnerUserId\"] = df[\"OwnerUserId\"].astype(int)\n",
    "    df.set_index(\"Id\", inplace=True, drop=False)\n",
    "\n",
    "    df[\"is_question\"] = df[\"PostTypeId\"] == 1\n",
    "\n",
    "    # 문서화된 것 이외의 PostTypeId를 필터링한다\n",
    "    df = df[df[\"PostTypeId\"].isin([1, 2])]\n",
    "\n",
    "    # 질문과 대답을 연결합니다\n",
    "    df = df.join(\n",
    "        df[[\"Id\", \"Title\", \"body_text\", \"Score\", \"AcceptedAnswerId\"]],\n",
    "        on=\"ParentId\",\n",
    "        how=\"left\",\n",
    "        rsuffix=\"_question\",\n",
    "    )\n",
    "    return df\n",
    "\n",
    "\n",
    "def get_split_by_author(\n",
    "        posts, author_id_column=\"OwnerUserId\", test_size=0.3, random_state=40\n",
    "):\n",
    "    \"\"\"\n",
    "    훈련 세트와 테스트 세트로 나눕니다.\n",
    "    작성자가 두 세트 중에 하나에만 등장하는 것을 보장합니다.\n",
    "    :param posts: 모든 포스트와 레이블\n",
    "    :param author_id_column: author_id가 들어 있는 열 이름\n",
    "    :param test_size: 테스트 세트로 할당할 비율\n",
    "    :param random_state: 랜덤 시드\n",
    "    \"\"\"\n",
    "    splitter = GroupShuffleSplit(\n",
    "        n_splits=1, test_size=test_size, random_state=random_state\n",
    "    )\n",
    "    splits = splitter.split(posts, groups=posts[author_id_column])\n",
    "    train_idx, test_idx = next(splits)\n",
    "    return posts.iloc[train_idx, :], posts.iloc[test_idx, :]\n",
    "\n",
    "\n",
    "def get_normalized_series(df, col):\n",
    "    \"\"\"\n",
    "    DataFrame 열을 정규화합니다.\n",
    "    :param df: DataFrame\n",
    "    :param col: 열 이름\n",
    "    :return: Z-점수를 사용해 정규화된 시리즈 객체\n",
    "    \"\"\"\n",
    "    return (df[col] - df[col].mean()) / df[col].std()\n",
    "\n",
    "\n",
    "def add_v1_features(df):\n",
    "    \"\"\"\n",
    "    입력 DataFrame에 첫 번째 특성을 추가합니다.\n",
    "    :param df: 질문 DataFrame\n",
    "    :return: 특성이 추가된 DataFrame\n",
    "    \"\"\"\n",
    "    df[\"action_verb_full\"] = (\n",
    "        df[\"full_text\"].str.contains(\"can\", regex=False)\n",
    "        | df[\"full_text\"].str.contains(\"What\", regex=False)\n",
    "        | df[\"full_text\"].str.contains(\"should\", regex=False)\n",
    "    )\n",
    "    df[\"language_question\"] = (\n",
    "        df[\"full_text\"].str.contains(\"punctuate\", regex=False)\n",
    "        | df[\"full_text\"].str.contains(\"capitalize\", regex=False)\n",
    "        | df[\"full_text\"].str.contains(\"abbreviate\", regex=False)\n",
    "    )\n",
    "    df[\"question_mark_full\"] = df[\"full_text\"].str.contains(\"?\", regex=False)\n",
    "    df[\"text_len\"] = df[\"full_text\"].str.len()\n",
    "    return df\n",
    "\n",
    "\n",
    "def add_text_features_to_df(df):\n",
    "    \"\"\"\n",
    "    DataFrame에 특성을 추가합니다.\n",
    "    :param df: DataFrame\n",
    "    :return: 특성이 추가된 DataFrame\n",
    "    \"\"\"\n",
    "    df[\"full_text\"] = df[\"Title\"].str.cat(df[\"body_text\"], sep=\" \", na_rep=\"\")\n",
    "    df = add_v1_features(df.copy())\n",
    "\n",
    "    return df"
   ],
   "metadata": {
    "collapsed": false
   }
  },
  {
   "cell_type": "code",
   "execution_count": 6,
   "outputs": [],
   "source": [
    "import matplotlib.pyplot as plt\n",
    "from matplotlib.patches import Rectangle\n",
    "\n",
    "\n",
    "def plot_embeddings(embeddings, sent_labels):\n",
    "    \"\"\"\n",
    "    문장 레이블에 따라 색을 입힌 임베딩 그래프 그리기\n",
    "    :param embeddings: 2차원 임베딩\n",
    "    :param sent_labels: 출력할 레이블\n",
    "    \"\"\"\n",
    "    fig = plt.figure(figsize=(16, 10))\n",
    "    color_map = {True: \"#1f77b4\", False: \"#ff7f0e\"}\n",
    "    plt.scatter(\n",
    "        embeddings[:, 0],\n",
    "        embeddings[:, 1],\n",
    "        c=[color_map[x] for x in sent_labels],\n",
    "        s=40,\n",
    "        alpha=0.4,\n",
    "    )\n",
    "\n",
    "    handles = [\n",
    "        Rectangle((0, 0), 1, 1, color=c, ec=\"k\") for c in [\"#1f77b4\", \"#ff7f0e\"]\n",
    "    ]\n",
    "    labels = [\"answered\", \"unanswered\"]\n",
    "    plt.legend(handles, labels)\n",
    "\n",
    "    plt.gca().set_aspect(\"equal\", \"box\")\n",
    "    plt.gca().set_xlabel(\"x\")\n",
    "    plt.gca().set_ylabel(\"y\")"
   ],
   "metadata": {
    "collapsed": false
   }
  },
  {
   "cell_type": "code",
   "execution_count": 7,
   "outputs": [
    {
     "name": "stdout",
     "output_type": "stream",
     "text": [
      "The autoreload extension is already loaded. To reload it, use:\n",
      "  %reload_ext autoreload\n"
     ]
    }
   ],
   "source": [
    "import pandas as pd\n",
    "import spacy\n",
    "import umap\n",
    "import numpy as np\n",
    "from io import BytesIO\n",
    "from PIL import Image\n",
    "import base64\n",
    "from bokeh.plotting import figure, show, output_notebook\n",
    "from bokeh.models import HoverTool, ColumnDataSource, CategoricalColorMapper\n",
    "from bokeh.palettes import Spectral10, Category10\n",
    "from pathlib import Path\n",
    "import sys\n",
    "sys.path.append(\"..\")\n",
    "import warnings\n",
    "warnings.filterwarnings('ignore')\n",
    "%matplotlib inline\n",
    "%load_ext autoreload\n",
    "%autoreload 2\n",
    "\n",
    "# from ml_editor.data_processing import format_raw_df, get_split_by_author, get_normalized_series, add_text_features_to_df\n",
    "# from ml_editor.data_visualization import plot_embeddings\n",
    "\n",
    "df = pd.read_csv(Path('data/writers.csv'))\n",
    "df = format_raw_df(df.copy())\n",
    "\n",
    "train_author, test_author = get_split_by_author(df[df[\"is_question\"]])\n",
    "\n",
    "questions = train_author[train_author[\"is_question\"]]\n",
    "raw_text = questions[\"body_text\"]\n",
    "sent_labels = questions[\"AcceptedAnswerId\"].notna()\n",
    "\n",
    "# 라지 모델을 로드하고 불필요한 기능을 비활성화 합니다.\n",
    "# 이렇게 하면 벡터화 처리 속도를 크게 높입니다.\n",
    "# 모델에 관한 자세한 정보는 https://spacy.io/models/en#en_core_web_lg 를 참고하세요.\n",
    "nlp = spacy.load('en_core_web_lg', disable=[\"parser\", \"tagger\", \"ner\",\n",
    "                                            \"textcat\", \"lemmatizer\"])\n",
    "\n",
    "# 각 질문에 대한 벡터를 만듭니다\n",
    "# 기본적으로 반환된 벡터는 문장에 있는 모든 벡터의 평균입니다.\n",
    "# 자세한 정보는 https://spacy.io/usage/vectors-similarity 를 참고하세요.\n",
    "spacy_emb = train_author[train_author[\"is_question\"]][\"body_text\"].apply(lambda x: nlp(x).vector)\n",
    "embeddings = np.vstack(spacy_emb)\n",
    "\n",
    "umap_embedder = umap.UMAP()\n",
    "umap_emb = umap_embedder.fit_transform(embeddings)"
   ],
   "metadata": {
    "collapsed": false
   }
  },
  {
   "cell_type": "markdown",
   "source": [
    "## 인터랙티브 플롯\n",
    "\n",
    "[보케(Bokeh)](https://docs.bokeh.org/en/latest/index.html)를 사용해 임베딩을 인터랙티브하게 살펴 보겠습니다.\n",
    "\n",
    "왼쪽과 오른쪽으로 회전하고 관심 영역을 줌인 할 수 있습니다. 질문 위에 마우스를 올리면 연결된 텍스트와 레이블이 나타납니다."
   ],
   "metadata": {
    "collapsed": false
   }
  },
  {
   "cell_type": "code",
   "execution_count": 8,
   "outputs": [
    {
     "data": {
      "text/html": "<style>\n        .bk-notebook-logo {\n            display: block;\n            width: 20px;\n            height: 20px;\n            background-image: url(data:image/png;base64,iVBORw0KGgoAAAANSUhEUgAAABQAAAAUCAYAAACNiR0NAAAABHNCSVQICAgIfAhkiAAAAAlwSFlzAAALEgAACxIB0t1+/AAAABx0RVh0U29mdHdhcmUAQWRvYmUgRmlyZXdvcmtzIENTNui8sowAAAOkSURBVDiNjZRtaJVlGMd/1/08zzln5zjP1LWcU9N0NkN8m2CYjpgQYQXqSs0I84OLIC0hkEKoPtiH3gmKoiJDU7QpLgoLjLIQCpEsNJ1vqUOdO7ppbuec5+V+rj4ctwzd8IIbbi6u+8f1539dt3A78eXC7QizUF7gyV1fD1Yqg4JWz84yffhm0qkFqBogB9rM8tZdtwVsPUhWhGcFJngGeWrPzHm5oaMmkfEg1usvLFyc8jLRqDOMru7AyC8saQr7GG7f5fvDeH7Ej8CM66nIF+8yngt6HWaKh7k49Soy9nXurCi1o3qUbS3zWfrYeQDTB/Qj6kX6Ybhw4B+bOYoLKCC9H3Nu/leUTZ1JdRWkkn2ldcCamzrcf47KKXdAJllSlxAOkRgyHsGC/zRday5Qld9DyoM4/q/rUoy/CXh3jzOu3bHUVZeU+DEn8FInkPBFlu3+nW3Nw0mk6vCDiWg8CeJaxEwuHS3+z5RgY+YBR6V1Z1nxSOfoaPa4LASWxxdNp+VWTk7+4vzaou8v8PN+xo+KY2xsw6une2frhw05CTYOmQvsEhjhWjn0bmXPjpE1+kplmmkP3suftwTubK9Vq22qKmrBhpY4jvd5afdRA3wGjFAgcnTK2s4hY0/GPNIb0nErGMCRxWOOX64Z8RAC4oCXdklmEvcL8o0BfkNK4lUg9HTl+oPlQxdNo3Mg4Nv175e/1LDGzZen30MEjRUtmXSfiTVu1kK8W4txyV6BMKlbgk3lMwYCiusNy9fVfvvwMxv8Ynl6vxoByANLTWplvuj/nF9m2+PDtt1eiHPBr1oIfhCChQMBw6Aw0UulqTKZdfVvfG7VcfIqLG9bcldL/+pdWTLxLUy8Qq38heUIjh4XlzZxzQm19lLFlr8vdQ97rjZVOLf8nclzckbcD4wxXMidpX30sFd37Fv/GtwwhzhxGVAprjbg0gCAEeIgwCZyTV2Z1REEW8O4py0wsjeloKoMr6iCY6dP92H6Vw/oTyICIthibxjm/DfN9lVz8IqtqKYLUXfoKVMVQVVJOElGjrnnUt9T9wbgp8AyYKaGlqingHZU/uG2NTZSVqwHQTWkx9hxjkpWDaCg6Ckj5qebgBVbT3V3NNXMSiWSDdGV3hrtzla7J+duwPOToIg42ChPQOQjspnSlp1V+Gjdged7+8UN5CRAV7a5EdFNwCjEaBR27b3W890TE7g24NAP/mMDXRWrGoFPQI9ls/MWO2dWFAar/xcOIImbbpA3zgAAAABJRU5ErkJggg==);\n        }\n    </style>\n    <div>\n        <a href=\"https://bokeh.org\" target=\"_blank\" class=\"bk-notebook-logo\"></a>\n        <span id=\"e19c3b1f-153f-408b-abea-7d734292fd55\">Loading BokehJS ...</span>\n    </div>\n"
     },
     "metadata": {},
     "output_type": "display_data"
    },
    {
     "data": {
      "application/javascript": "(function(root) {\n  function now() {\n    return new Date();\n  }\n\n  const force = true;\n\n  if (typeof root._bokeh_onload_callbacks === \"undefined\" || force === true) {\n    root._bokeh_onload_callbacks = [];\n    root._bokeh_is_loading = undefined;\n  }\n\nconst JS_MIME_TYPE = 'application/javascript';\n  const HTML_MIME_TYPE = 'text/html';\n  const EXEC_MIME_TYPE = 'application/vnd.bokehjs_exec.v0+json';\n  const CLASS_NAME = 'output_bokeh rendered_html';\n\n  /**\n   * Render data to the DOM node\n   */\n  function render(props, node) {\n    const script = document.createElement(\"script\");\n    node.appendChild(script);\n  }\n\n  /**\n   * Handle when an output is cleared or removed\n   */\n  function handleClearOutput(event, handle) {\n    const cell = handle.cell;\n\n    const id = cell.output_area._bokeh_element_id;\n    const server_id = cell.output_area._bokeh_server_id;\n    // Clean up Bokeh references\n    if (id != null && id in Bokeh.index) {\n      Bokeh.index[id].model.document.clear();\n      delete Bokeh.index[id];\n    }\n\n    if (server_id !== undefined) {\n      // Clean up Bokeh references\n      const cmd_clean = \"from bokeh.io.state import curstate; print(curstate().uuid_to_server['\" + server_id + \"'].get_sessions()[0].document.roots[0]._id)\";\n      cell.notebook.kernel.execute(cmd_clean, {\n        iopub: {\n          output: function(msg) {\n            const id = msg.content.text.trim();\n            if (id in Bokeh.index) {\n              Bokeh.index[id].model.document.clear();\n              delete Bokeh.index[id];\n            }\n          }\n        }\n      });\n      // Destroy server and session\n      const cmd_destroy = \"import bokeh.io.notebook as ion; ion.destroy_server('\" + server_id + \"')\";\n      cell.notebook.kernel.execute(cmd_destroy);\n    }\n  }\n\n  /**\n   * Handle when a new output is added\n   */\n  function handleAddOutput(event, handle) {\n    const output_area = handle.output_area;\n    const output = handle.output;\n\n    // limit handleAddOutput to display_data with EXEC_MIME_TYPE content only\n    if ((output.output_type != \"display_data\") || (!Object.prototype.hasOwnProperty.call(output.data, EXEC_MIME_TYPE))) {\n      return\n    }\n\n    const toinsert = output_area.element.find(\".\" + CLASS_NAME.split(' ')[0]);\n\n    if (output.metadata[EXEC_MIME_TYPE][\"id\"] !== undefined) {\n      toinsert[toinsert.length - 1].firstChild.textContent = output.data[JS_MIME_TYPE];\n      // store reference to embed id on output_area\n      output_area._bokeh_element_id = output.metadata[EXEC_MIME_TYPE][\"id\"];\n    }\n    if (output.metadata[EXEC_MIME_TYPE][\"server_id\"] !== undefined) {\n      const bk_div = document.createElement(\"div\");\n      bk_div.innerHTML = output.data[HTML_MIME_TYPE];\n      const script_attrs = bk_div.children[0].attributes;\n      for (let i = 0; i < script_attrs.length; i++) {\n        toinsert[toinsert.length - 1].firstChild.setAttribute(script_attrs[i].name, script_attrs[i].value);\n        toinsert[toinsert.length - 1].firstChild.textContent = bk_div.children[0].textContent\n      }\n      // store reference to server id on output_area\n      output_area._bokeh_server_id = output.metadata[EXEC_MIME_TYPE][\"server_id\"];\n    }\n  }\n\n  function register_renderer(events, OutputArea) {\n\n    function append_mime(data, metadata, element) {\n      // create a DOM node to render to\n      const toinsert = this.create_output_subarea(\n        metadata,\n        CLASS_NAME,\n        EXEC_MIME_TYPE\n      );\n      this.keyboard_manager.register_events(toinsert);\n      // Render to node\n      const props = {data: data, metadata: metadata[EXEC_MIME_TYPE]};\n      render(props, toinsert[toinsert.length - 1]);\n      element.append(toinsert);\n      return toinsert\n    }\n\n    /* Handle when an output is cleared or removed */\n    events.on('clear_output.CodeCell', handleClearOutput);\n    events.on('delete.Cell', handleClearOutput);\n\n    /* Handle when a new output is added */\n    events.on('output_added.OutputArea', handleAddOutput);\n\n    /**\n     * Register the mime type and append_mime function with output_area\n     */\n    OutputArea.prototype.register_mime_type(EXEC_MIME_TYPE, append_mime, {\n      /* Is output safe? */\n      safe: true,\n      /* Index of renderer in `output_area.display_order` */\n      index: 0\n    });\n  }\n\n  // register the mime type if in Jupyter Notebook environment and previously unregistered\n  if (root.Jupyter !== undefined) {\n    const events = require('base/js/events');\n    const OutputArea = require('notebook/js/outputarea').OutputArea;\n\n    if (OutputArea.prototype.mime_types().indexOf(EXEC_MIME_TYPE) == -1) {\n      register_renderer(events, OutputArea);\n    }\n  }\n  if (typeof (root._bokeh_timeout) === \"undefined\" || force === true) {\n    root._bokeh_timeout = Date.now() + 5000;\n    root._bokeh_failed_load = false;\n  }\n\n  const NB_LOAD_WARNING = {'data': {'text/html':\n     \"<div style='background-color: #fdd'>\\n\"+\n     \"<p>\\n\"+\n     \"BokehJS does not appear to have successfully loaded. If loading BokehJS from CDN, this \\n\"+\n     \"may be due to a slow or bad network connection. Possible fixes:\\n\"+\n     \"</p>\\n\"+\n     \"<ul>\\n\"+\n     \"<li>re-rerun `output_notebook()` to attempt to load from CDN again, or</li>\\n\"+\n     \"<li>use INLINE resources instead, as so:</li>\\n\"+\n     \"</ul>\\n\"+\n     \"<code>\\n\"+\n     \"from bokeh.resources import INLINE\\n\"+\n     \"output_notebook(resources=INLINE)\\n\"+\n     \"</code>\\n\"+\n     \"</div>\"}};\n\n  function display_loaded() {\n    const el = document.getElementById(\"e19c3b1f-153f-408b-abea-7d734292fd55\");\n    if (el != null) {\n      el.textContent = \"BokehJS is loading...\";\n    }\n    if (root.Bokeh !== undefined) {\n      if (el != null) {\n        el.textContent = \"BokehJS \" + root.Bokeh.version + \" successfully loaded.\";\n      }\n    } else if (Date.now() < root._bokeh_timeout) {\n      setTimeout(display_loaded, 100)\n    }\n  }\n\n  function run_callbacks() {\n    try {\n      root._bokeh_onload_callbacks.forEach(function(callback) {\n        if (callback != null)\n          callback();\n      });\n    } finally {\n      delete root._bokeh_onload_callbacks\n    }\n    console.debug(\"Bokeh: all callbacks have finished\");\n  }\n\n  function load_libs(css_urls, js_urls, callback) {\n    if (css_urls == null) css_urls = [];\n    if (js_urls == null) js_urls = [];\n\n    root._bokeh_onload_callbacks.push(callback);\n    if (root._bokeh_is_loading > 0) {\n      console.debug(\"Bokeh: BokehJS is being loaded, scheduling callback at\", now());\n      return null;\n    }\n    if (js_urls == null || js_urls.length === 0) {\n      run_callbacks();\n      return null;\n    }\n    console.debug(\"Bokeh: BokehJS not loaded, scheduling load and callback at\", now());\n    root._bokeh_is_loading = css_urls.length + js_urls.length;\n\n    function on_load() {\n      root._bokeh_is_loading--;\n      if (root._bokeh_is_loading === 0) {\n        console.debug(\"Bokeh: all BokehJS libraries/stylesheets loaded\");\n        run_callbacks()\n      }\n    }\n\n    function on_error(url) {\n      console.error(\"failed to load \" + url);\n    }\n\n    for (let i = 0; i < css_urls.length; i++) {\n      const url = css_urls[i];\n      const element = document.createElement(\"link\");\n      element.onload = on_load;\n      element.onerror = on_error.bind(null, url);\n      element.rel = \"stylesheet\";\n      element.type = \"text/css\";\n      element.href = url;\n      console.debug(\"Bokeh: injecting link tag for BokehJS stylesheet: \", url);\n      document.body.appendChild(element);\n    }\n\n    for (let i = 0; i < js_urls.length; i++) {\n      const url = js_urls[i];\n      const element = document.createElement('script');\n      element.onload = on_load;\n      element.onerror = on_error.bind(null, url);\n      element.async = false;\n      element.src = url;\n      console.debug(\"Bokeh: injecting script tag for BokehJS library: \", url);\n      document.head.appendChild(element);\n    }\n  };\n\n  function inject_raw_css(css) {\n    const element = document.createElement(\"style\");\n    element.appendChild(document.createTextNode(css));\n    document.body.appendChild(element);\n  }\n\n  const js_urls = [\"https://cdn.bokeh.org/bokeh/release/bokeh-3.1.1.min.js\", \"https://cdn.bokeh.org/bokeh/release/bokeh-gl-3.1.1.min.js\", \"https://cdn.bokeh.org/bokeh/release/bokeh-widgets-3.1.1.min.js\", \"https://cdn.bokeh.org/bokeh/release/bokeh-tables-3.1.1.min.js\", \"https://cdn.bokeh.org/bokeh/release/bokeh-mathjax-3.1.1.min.js\"];\n  const css_urls = [];\n\n  const inline_js = [    function(Bokeh) {\n      Bokeh.set_log_level(\"info\");\n    },\nfunction(Bokeh) {\n    }\n  ];\n\n  function run_inline_js() {\n    if (root.Bokeh !== undefined || force === true) {\n          for (let i = 0; i < inline_js.length; i++) {\n      inline_js[i].call(root, root.Bokeh);\n    }\nif (force === true) {\n        display_loaded();\n      }} else if (Date.now() < root._bokeh_timeout) {\n      setTimeout(run_inline_js, 100);\n    } else if (!root._bokeh_failed_load) {\n      console.log(\"Bokeh: BokehJS failed to load within specified timeout.\");\n      root._bokeh_failed_load = true;\n    } else if (force !== true) {\n      const cell = $(document.getElementById(\"e19c3b1f-153f-408b-abea-7d734292fd55\")).parents('.cell').data().cell;\n      cell.output_area.append_execute_result(NB_LOAD_WARNING)\n    }\n  }\n\n  if (root._bokeh_is_loading === 0) {\n    console.debug(\"Bokeh: BokehJS loaded, going straight to plotting\");\n    run_inline_js();\n  } else {\n    load_libs(css_urls, js_urls, function() {\n      console.debug(\"Bokeh: BokehJS plotting callback run at\", now());\n      run_inline_js();\n    });\n  }\n}(window));",
      "application/vnd.bokehjs_load.v0+json": "(function(root) {\n  function now() {\n    return new Date();\n  }\n\n  const force = true;\n\n  if (typeof root._bokeh_onload_callbacks === \"undefined\" || force === true) {\n    root._bokeh_onload_callbacks = [];\n    root._bokeh_is_loading = undefined;\n  }\n\n\n  if (typeof (root._bokeh_timeout) === \"undefined\" || force === true) {\n    root._bokeh_timeout = Date.now() + 5000;\n    root._bokeh_failed_load = false;\n  }\n\n  const NB_LOAD_WARNING = {'data': {'text/html':\n     \"<div style='background-color: #fdd'>\\n\"+\n     \"<p>\\n\"+\n     \"BokehJS does not appear to have successfully loaded. If loading BokehJS from CDN, this \\n\"+\n     \"may be due to a slow or bad network connection. Possible fixes:\\n\"+\n     \"</p>\\n\"+\n     \"<ul>\\n\"+\n     \"<li>re-rerun `output_notebook()` to attempt to load from CDN again, or</li>\\n\"+\n     \"<li>use INLINE resources instead, as so:</li>\\n\"+\n     \"</ul>\\n\"+\n     \"<code>\\n\"+\n     \"from bokeh.resources import INLINE\\n\"+\n     \"output_notebook(resources=INLINE)\\n\"+\n     \"</code>\\n\"+\n     \"</div>\"}};\n\n  function display_loaded() {\n    const el = document.getElementById(\"e19c3b1f-153f-408b-abea-7d734292fd55\");\n    if (el != null) {\n      el.textContent = \"BokehJS is loading...\";\n    }\n    if (root.Bokeh !== undefined) {\n      if (el != null) {\n        el.textContent = \"BokehJS \" + root.Bokeh.version + \" successfully loaded.\";\n      }\n    } else if (Date.now() < root._bokeh_timeout) {\n      setTimeout(display_loaded, 100)\n    }\n  }\n\n  function run_callbacks() {\n    try {\n      root._bokeh_onload_callbacks.forEach(function(callback) {\n        if (callback != null)\n          callback();\n      });\n    } finally {\n      delete root._bokeh_onload_callbacks\n    }\n    console.debug(\"Bokeh: all callbacks have finished\");\n  }\n\n  function load_libs(css_urls, js_urls, callback) {\n    if (css_urls == null) css_urls = [];\n    if (js_urls == null) js_urls = [];\n\n    root._bokeh_onload_callbacks.push(callback);\n    if (root._bokeh_is_loading > 0) {\n      console.debug(\"Bokeh: BokehJS is being loaded, scheduling callback at\", now());\n      return null;\n    }\n    if (js_urls == null || js_urls.length === 0) {\n      run_callbacks();\n      return null;\n    }\n    console.debug(\"Bokeh: BokehJS not loaded, scheduling load and callback at\", now());\n    root._bokeh_is_loading = css_urls.length + js_urls.length;\n\n    function on_load() {\n      root._bokeh_is_loading--;\n      if (root._bokeh_is_loading === 0) {\n        console.debug(\"Bokeh: all BokehJS libraries/stylesheets loaded\");\n        run_callbacks()\n      }\n    }\n\n    function on_error(url) {\n      console.error(\"failed to load \" + url);\n    }\n\n    for (let i = 0; i < css_urls.length; i++) {\n      const url = css_urls[i];\n      const element = document.createElement(\"link\");\n      element.onload = on_load;\n      element.onerror = on_error.bind(null, url);\n      element.rel = \"stylesheet\";\n      element.type = \"text/css\";\n      element.href = url;\n      console.debug(\"Bokeh: injecting link tag for BokehJS stylesheet: \", url);\n      document.body.appendChild(element);\n    }\n\n    for (let i = 0; i < js_urls.length; i++) {\n      const url = js_urls[i];\n      const element = document.createElement('script');\n      element.onload = on_load;\n      element.onerror = on_error.bind(null, url);\n      element.async = false;\n      element.src = url;\n      console.debug(\"Bokeh: injecting script tag for BokehJS library: \", url);\n      document.head.appendChild(element);\n    }\n  };\n\n  function inject_raw_css(css) {\n    const element = document.createElement(\"style\");\n    element.appendChild(document.createTextNode(css));\n    document.body.appendChild(element);\n  }\n\n  const js_urls = [\"https://cdn.bokeh.org/bokeh/release/bokeh-3.1.1.min.js\", \"https://cdn.bokeh.org/bokeh/release/bokeh-gl-3.1.1.min.js\", \"https://cdn.bokeh.org/bokeh/release/bokeh-widgets-3.1.1.min.js\", \"https://cdn.bokeh.org/bokeh/release/bokeh-tables-3.1.1.min.js\", \"https://cdn.bokeh.org/bokeh/release/bokeh-mathjax-3.1.1.min.js\"];\n  const css_urls = [];\n\n  const inline_js = [    function(Bokeh) {\n      Bokeh.set_log_level(\"info\");\n    },\nfunction(Bokeh) {\n    }\n  ];\n\n  function run_inline_js() {\n    if (root.Bokeh !== undefined || force === true) {\n          for (let i = 0; i < inline_js.length; i++) {\n      inline_js[i].call(root, root.Bokeh);\n    }\nif (force === true) {\n        display_loaded();\n      }} else if (Date.now() < root._bokeh_timeout) {\n      setTimeout(run_inline_js, 100);\n    } else if (!root._bokeh_failed_load) {\n      console.log(\"Bokeh: BokehJS failed to load within specified timeout.\");\n      root._bokeh_failed_load = true;\n    } else if (force !== true) {\n      const cell = $(document.getElementById(\"e19c3b1f-153f-408b-abea-7d734292fd55\")).parents('.cell').data().cell;\n      cell.output_area.append_execute_result(NB_LOAD_WARNING)\n    }\n  }\n\n  if (root._bokeh_is_loading === 0) {\n    console.debug(\"Bokeh: BokehJS loaded, going straight to plotting\");\n    run_inline_js();\n  } else {\n    load_libs(css_urls, js_urls, function() {\n      console.debug(\"Bokeh: BokehJS plotting callback run at\", now());\n      run_inline_js();\n    });\n  }\n}(window));"
     },
     "metadata": {},
     "output_type": "display_data"
    },
    {
     "name": "stdout",
     "output_type": "stream",
     "text": [
      "Using standard label\n",
      "5676\n"
     ]
    },
    {
     "ename": "AttributeError",
     "evalue": "unexpected attribute 'plot_width' to figure, similar attributes are outer_width, width or min_width",
     "output_type": "error",
     "traceback": [
      "\u001B[0;31m---------------------------------------------------------------------------\u001B[0m",
      "\u001B[0;31mAttributeError\u001B[0m                            Traceback (most recent call last)",
      "Cell \u001B[0;32mIn[8], line 48\u001B[0m\n\u001B[1;32m     36\u001B[0m     plot_figure\u001B[38;5;241m.\u001B[39mcircle(\n\u001B[1;32m     37\u001B[0m         \u001B[38;5;124m'\u001B[39m\u001B[38;5;124mx\u001B[39m\u001B[38;5;124m'\u001B[39m,\n\u001B[1;32m     38\u001B[0m         \u001B[38;5;124m'\u001B[39m\u001B[38;5;124my\u001B[39m\u001B[38;5;124m'\u001B[39m,\n\u001B[0;32m   (...)\u001B[0m\n\u001B[1;32m     44\u001B[0m         size\u001B[38;5;241m=\u001B[39m\u001B[38;5;241m5\u001B[39m\n\u001B[1;32m     45\u001B[0m     )\n\u001B[1;32m     46\u001B[0m     \u001B[38;5;28;01mreturn\u001B[39;00m plot_figure\n\u001B[0;32m---> 48\u001B[0m plot_figure \u001B[38;5;241m=\u001B[39m \u001B[43mget_interactive_umap_embeddings_plot\u001B[49m\u001B[43m(\u001B[49m\u001B[43mumap_emb\u001B[49m\u001B[43m,\u001B[49m\u001B[43m \u001B[49m\u001B[43msent_labels\u001B[49m\u001B[43m,\u001B[49m\u001B[43m \u001B[49m\u001B[43mraw_text\u001B[49m\u001B[43m,\u001B[49m\u001B[43m \u001B[49m\u001B[43mlegends\u001B[49m\u001B[38;5;241;43m=\u001B[39;49m\u001B[43msent_labels\u001B[49m\u001B[43m)\u001B[49m\n\u001B[1;32m     49\u001B[0m show(plot_figure)\n",
      "Cell \u001B[0;32mIn[8], line 28\u001B[0m, in \u001B[0;36mget_interactive_umap_embeddings_plot\u001B[0;34m(umap_vectors, labels, text, legends, tooltip_label)\u001B[0m\n\u001B[1;32m     25\u001B[0m hover \u001B[38;5;241m=\u001B[39m HoverTool(tooltips\u001B[38;5;241m=\u001B[39mTOOLTIPS)\n\u001B[1;32m     26\u001B[0m hover\u001B[38;5;241m.\u001B[39mattachment \u001B[38;5;241m=\u001B[39m\u001B[38;5;124m'\u001B[39m\u001B[38;5;124mright\u001B[39m\u001B[38;5;124m'\u001B[39m\n\u001B[0;32m---> 28\u001B[0m plot_figure \u001B[38;5;241m=\u001B[39m \u001B[43mfigure\u001B[49m\u001B[43m(\u001B[49m\n\u001B[1;32m     29\u001B[0m \u001B[43m    \u001B[49m\u001B[43mtitle\u001B[49m\u001B[38;5;241;43m=\u001B[39;49m\u001B[38;5;124;43m'\u001B[39;49m\u001B[38;5;124;43mUMAP projection of questions\u001B[39;49m\u001B[38;5;124;43m'\u001B[39;49m\u001B[43m,\u001B[49m\n\u001B[1;32m     30\u001B[0m \u001B[43m    \u001B[49m\u001B[43mplot_width\u001B[49m\u001B[38;5;241;43m=\u001B[39;49m\u001B[38;5;241;43m900\u001B[39;49m\u001B[43m,\u001B[49m\n\u001B[1;32m     31\u001B[0m \u001B[43m    \u001B[49m\u001B[43mplot_height\u001B[49m\u001B[38;5;241;43m=\u001B[39;49m\u001B[38;5;241;43m600\u001B[39;49m\u001B[43m,\u001B[49m\n\u001B[1;32m     32\u001B[0m \u001B[43m    \u001B[49m\u001B[43mtools\u001B[49m\u001B[38;5;241;43m=\u001B[39;49m\u001B[43m(\u001B[49m\u001B[38;5;124;43m'\u001B[39;49m\u001B[38;5;124;43mpan, wheel_zoom, reset\u001B[39;49m\u001B[38;5;124;43m'\u001B[39;49m\u001B[43m,\u001B[49m\u001B[43m \u001B[49m\u001B[38;5;124;43m'\u001B[39;49m\u001B[38;5;124;43mbox_zoom\u001B[39;49m\u001B[38;5;124;43m'\u001B[39;49m\u001B[43m,\u001B[49m\u001B[43m \u001B[49m\u001B[38;5;124;43m'\u001B[39;49m\u001B[38;5;124;43mundo\u001B[39;49m\u001B[38;5;124;43m'\u001B[39;49m\u001B[43m)\u001B[49m\n\u001B[1;32m     33\u001B[0m \u001B[43m\u001B[49m\u001B[43m)\u001B[49m\n\u001B[1;32m     34\u001B[0m plot_figure\u001B[38;5;241m.\u001B[39madd_tools(hover)\n\u001B[1;32m     36\u001B[0m plot_figure\u001B[38;5;241m.\u001B[39mcircle(\n\u001B[1;32m     37\u001B[0m     \u001B[38;5;124m'\u001B[39m\u001B[38;5;124mx\u001B[39m\u001B[38;5;124m'\u001B[39m,\n\u001B[1;32m     38\u001B[0m     \u001B[38;5;124m'\u001B[39m\u001B[38;5;124my\u001B[39m\u001B[38;5;124m'\u001B[39m,\n\u001B[0;32m   (...)\u001B[0m\n\u001B[1;32m     44\u001B[0m     size\u001B[38;5;241m=\u001B[39m\u001B[38;5;241m5\u001B[39m\n\u001B[1;32m     45\u001B[0m )\n",
      "File \u001B[0;32m/usr/local/Caskroom/miniforge/base/envs/mlops/lib/python3.11/site-packages/bokeh/plotting/_figure.py:190\u001B[0m, in \u001B[0;36mfigure.__init__\u001B[0;34m(self, *arg, **kw)\u001B[0m\n\u001B[1;32m    188\u001B[0m \u001B[38;5;28;01mfor\u001B[39;00m name \u001B[38;5;129;01min\u001B[39;00m kw\u001B[38;5;241m.\u001B[39mkeys():\n\u001B[1;32m    189\u001B[0m     \u001B[38;5;28;01mif\u001B[39;00m name \u001B[38;5;129;01mnot\u001B[39;00m \u001B[38;5;129;01min\u001B[39;00m names:\n\u001B[0;32m--> 190\u001B[0m         \u001B[38;5;28;43mself\u001B[39;49m\u001B[38;5;241;43m.\u001B[39;49m\u001B[43m_raise_attribute_error_with_matches\u001B[49m\u001B[43m(\u001B[49m\u001B[43mname\u001B[49m\u001B[43m,\u001B[49m\u001B[43m \u001B[49m\u001B[43mnames\u001B[49m\u001B[43m \u001B[49m\u001B[38;5;241;43m|\u001B[39;49m\u001B[43m \u001B[49m\u001B[43mopts\u001B[49m\u001B[38;5;241;43m.\u001B[39;49m\u001B[43mproperties\u001B[49m\u001B[43m(\u001B[49m\u001B[43m)\u001B[49m\u001B[43m)\u001B[49m\n\u001B[1;32m    192\u001B[0m \u001B[38;5;28msuper\u001B[39m()\u001B[38;5;241m.\u001B[39m\u001B[38;5;21m__init__\u001B[39m(\u001B[38;5;241m*\u001B[39marg, \u001B[38;5;241m*\u001B[39m\u001B[38;5;241m*\u001B[39mkw)\n\u001B[1;32m    194\u001B[0m \u001B[38;5;28mself\u001B[39m\u001B[38;5;241m.\u001B[39mx_range \u001B[38;5;241m=\u001B[39m get_range(opts\u001B[38;5;241m.\u001B[39mx_range)\n",
      "File \u001B[0;32m/usr/local/Caskroom/miniforge/base/envs/mlops/lib/python3.11/site-packages/bokeh/core/has_props.py:368\u001B[0m, in \u001B[0;36mHasProps._raise_attribute_error_with_matches\u001B[0;34m(self, name, properties)\u001B[0m\n\u001B[1;32m    365\u001B[0m \u001B[38;5;28;01mif\u001B[39;00m \u001B[38;5;129;01mnot\u001B[39;00m matches:\n\u001B[1;32m    366\u001B[0m     matches, text \u001B[38;5;241m=\u001B[39m \u001B[38;5;28msorted\u001B[39m(properties), \u001B[38;5;124m\"\u001B[39m\u001B[38;5;124mpossible\u001B[39m\u001B[38;5;124m\"\u001B[39m\n\u001B[0;32m--> 368\u001B[0m \u001B[38;5;28;01mraise\u001B[39;00m \u001B[38;5;167;01mAttributeError\u001B[39;00m(\u001B[38;5;124mf\u001B[39m\u001B[38;5;124m\"\u001B[39m\u001B[38;5;124munexpected attribute \u001B[39m\u001B[38;5;132;01m{\u001B[39;00mname\u001B[38;5;132;01m!r}\u001B[39;00m\u001B[38;5;124m to \u001B[39m\u001B[38;5;132;01m{\u001B[39;00m\u001B[38;5;28mself\u001B[39m\u001B[38;5;241m.\u001B[39m\u001B[38;5;18m__class__\u001B[39m\u001B[38;5;241m.\u001B[39m\u001B[38;5;18m__name__\u001B[39m\u001B[38;5;132;01m}\u001B[39;00m\u001B[38;5;124m, \u001B[39m\u001B[38;5;132;01m{\u001B[39;00mtext\u001B[38;5;132;01m}\u001B[39;00m\u001B[38;5;124m attributes are \u001B[39m\u001B[38;5;132;01m{\u001B[39;00mnice_join(matches)\u001B[38;5;132;01m}\u001B[39;00m\u001B[38;5;124m\"\u001B[39m)\n",
      "\u001B[0;31mAttributeError\u001B[0m: unexpected attribute 'plot_width' to figure, similar attributes are outer_width, width or min_width"
     ]
    }
   ],
   "source": [
    "from bokeh.plotting import figure, show, output_notebook\n",
    "from bokeh.models import HoverTool, ColumnDataSource, CategoricalColorMapper\n",
    "from bokeh.palettes import Spectral10, Category10\n",
    "\n",
    "output_notebook()\n",
    "\n",
    "def get_interactive_umap_embeddings_plot(umap_vectors, labels, text, legends, tooltip_label=None):\n",
    "    if not tooltip_label:\n",
    "        print(\"Using standard label\")\n",
    "        tooltip_label = labels\n",
    "    w2v_df = pd.DataFrame(umap_vectors, columns=('x', 'y'))\n",
    "    print(len(w2v_df))\n",
    "    w2v_df['label'] = [str(x) for x in labels]\n",
    "    w2v_df['tooltip_label'] = [str(x) for x in tooltip_label]\n",
    "    w2v_df['text'] = list(text)\n",
    "    w2v_df['legends'] = [\"Answered\" if el else \"Unanswered\" for el in list(legends)]\n",
    "    datasource = ColumnDataSource(w2v_df)\n",
    "\n",
    "    color_mapping = CategoricalColorMapper(factors=['True','False'], palette=['#1f77b4', '#ff7f0e'])\n",
    "\n",
    "    TOOLTIPS = [\n",
    "        (\"text\", \"@text\"),\n",
    "        ('got_answer', '@tooltip_label')\n",
    "    ]\n",
    "    hover = HoverTool(tooltips=TOOLTIPS)\n",
    "    hover.attachment ='right'\n",
    "\n",
    "    plot_figure = figure(\n",
    "        title='UMAP projection of questions',\n",
    "        plot_width=900,\n",
    "        plot_height=600,\n",
    "        tools=('pan, wheel_zoom, reset', 'box_zoom', 'undo')\n",
    "    )\n",
    "    plot_figure.add_tools(hover)\n",
    "\n",
    "    plot_figure.circle(\n",
    "        'x',\n",
    "        'y',\n",
    "        source=datasource,\n",
    "        color=dict(field='label', transform=color_mapping),\n",
    "        legend='legends',\n",
    "        line_alpha=0,\n",
    "        fill_alpha=0.4,\n",
    "        size=5\n",
    "    )\n",
    "    return plot_figure\n",
    "\n",
    "plot_figure = get_interactive_umap_embeddings_plot(umap_emb, sent_labels, raw_text, legends=sent_labels)\n",
    "show(plot_figure)"
   ],
   "metadata": {
    "collapsed": false
   }
  },
  {
   "cell_type": "markdown",
   "source": [
    "데이터를 살펴 볼 때 마우스로 가리킨 특정 샘플 위치를 알 수 있도록 헬퍼 함수를 만들겠습니다. 아래 함수는 주어진 문자열을 담고 있는 샘플을 찾고 관련 특성을 출력합니다."
   ],
   "metadata": {
    "collapsed": false
   }
  },
  {
   "cell_type": "code",
   "execution_count": null,
   "outputs": [],
   "source": [
    "# 검색을 위해서 빈 문자열로 만듭니다.\n",
    "df[\"body_text_question\"].fillna(\"\", inplace=True)\n",
    "\n",
    "def show_question_features_containing(text):\n",
    "    return df[df[\"body_text_question\"].str.contains(text)][[\"body_text\", \"CommentCount\",\n",
    "                                                             \"body_text_question\",\n",
    "                                                       \"Score_question\", \"AcceptedAnswerId_question\"]]\n",
    "\n",
    "# 비슷한 질문을 찾는 좋은 예\n",
    "show_question_features_containing(\"I'm an amateur writer\")"
   ],
   "metadata": {
    "collapsed": false
   }
  },
  {
   "cell_type": "markdown",
   "source": [
    "## 가능성있는 특성\n",
    "\n",
    "임베딩과 관련된 데이터 행을 살펴 보니 질문의 타깃 클래스를 예측하는데 유용한 몇 개의 특성을 볼 수 있습니다. 그 중 몇 개는 다음과 같습니다:\n",
    "\n",
    "- 질문 길이: 매우 짧은 질문은 대답을 받지 못하는 것 같습니다.\n",
    "- 물음표 여부: 물음표가 없으면 답변을 받을 가능성이 낮아 보입니다.\n",
    "- 명확한 질문에 관련된 어휘(동작 동사 등...): 대답을 받지 못한 질문에 빠져 있는 것 같습니다.\n",
    "\n",
    "이외에 다른 것을 찾은 게 있나요? 그렇다면 마음껏 추가해도 좋습니다."
   ],
   "metadata": {
    "collapsed": false
   }
  },
  {
   "cell_type": "markdown",
   "source": [
    "먼저 물음표와 동작 동사의 존재 여부를 특성으로 만들겠습니다."
   ],
   "metadata": {
    "collapsed": false
   }
  },
  {
   "cell_type": "code",
   "execution_count": null,
   "outputs": [],
   "source": [
    "df[\"action_verb\"] = (df[\"body_text\"].str.contains(\"can\", regex=False) | df[\"body_text\"].str.contains(\"What\", regex=False) | df[\"body_text\"].str.contains(\"should\", regex=False))\n",
    "df[\"question_mark\"] = df[\"body_text\"].str.contains(\"?\", regex=False)\n",
    "df[\"text_len\"] = df[\"body_text\"].str.len()"
   ],
   "metadata": {
    "collapsed": false
   }
  },
  {
   "cell_type": "markdown",
   "source": [
    "각 특성이 `True`인 개수를 확인해 보죠."
   ],
   "metadata": {
    "collapsed": false
   }
  },
  {
   "cell_type": "code",
   "execution_count": null,
   "outputs": [],
   "source": [
    "df[\"action_verb\"].value_counts()"
   ],
   "metadata": {
    "collapsed": false
   }
  },
  {
   "cell_type": "code",
   "execution_count": null,
   "outputs": [],
   "source": [
    "df[\"question_mark\"].value_counts()"
   ],
   "metadata": {
    "collapsed": false
   }
  },
  {
   "cell_type": "markdown",
   "source": [
    "텍스트 길이는 이미 측정했기 때문에 이를 정규화하는 것으로 간단히 전처리하겠습니다. 훈련 세트가 아니라 데이터프레임에 특성을 추가했기 때문에 훈련 세트를 다시 만듭니다."
   ],
   "metadata": {
    "collapsed": false
   }
  },
  {
   "cell_type": "code",
   "execution_count": null,
   "outputs": [],
   "source": [
    "df[\"norm_text_len\"]= get_normalized_series(df, \"text_len\")"
   ],
   "metadata": {
    "collapsed": false
   }
  },
  {
   "cell_type": "code",
   "execution_count": null,
   "outputs": [],
   "source": [
    "train_author, test_author = get_split_by_author(df[df[\"is_question\"]])"
   ],
   "metadata": {
    "collapsed": false
   }
  },
  {
   "cell_type": "markdown",
   "source": [
    "이제 특성을 추가했으므로 새로운 임베딩을 만들기 위해 기존 벡터에 생성된 특성을 추가하고 임베딩 공간에 다시 시각화합니다.\n",
    "특성이 많이 추가될수록 임베딩이 잘 구분되어야 합니다."
   ],
   "metadata": {
    "collapsed": false
   }
  },
  {
   "cell_type": "code",
   "execution_count": null,
   "outputs": [],
   "source": [
    "vectorized_features = np.append(np.array(embeddings), train_author[train_author[\"is_question\"]][[\"action_verb\",\"question_mark\",\n",
    "                                                                            \"norm_text_len\"]], 1)\n",
    "\n",
    "vectorized_features.shape"
   ],
   "metadata": {
    "collapsed": false
   }
  },
  {
   "cell_type": "markdown",
   "source": [
    "임베딩이 바뀌었으므로 그래프를 그리기 전에 UMAP 투영을 다시 계산합니다."
   ],
   "metadata": {
    "collapsed": false
   }
  },
  {
   "cell_type": "code",
   "execution_count": null,
   "outputs": [],
   "source": [
    "umap_embedder = umap.UMAP()\n",
    "umap_features = umap_embedder.fit_transform(vectorized_features)"
   ],
   "metadata": {
    "collapsed": false
   }
  },
  {
   "cell_type": "code",
   "execution_count": null,
   "outputs": [],
   "source": [
    "plot_embeddings(umap_features, sent_labels)"
   ],
   "metadata": {
    "collapsed": false
   }
  },
  {
   "cell_type": "markdown",
   "source": [
    "이 특성들이 데이터셋의 지형을 형성하는데 기여한 것으로 보입니다. 특히 대답을 받지 못한 질문의 대부분을 포함한 클러스터를 만든 것 같습니다. 이는 고무적이며 도움이 되는 특성이라는 신호입니다. 하지만 확신을 가지려면 모델에 사용해봐야 합니다.\n",
    "\n",
    "데이터 세트를 다시 한 번 살펴보고 다른 특성을 도출할 수 있는지 살펴보겠습니다. 이렇게 하려면 아래 셀의 주석을 제거하세요. 노트북 로딩 속도를 높이기 위해 주석 처리한 상태로 둡니다. 자유롭게 `show_question_features_keeping` 함수를 사용해 가설을 검증해 보세요."
   ],
   "metadata": {
    "collapsed": false
   }
  },
  {
   "cell_type": "code",
   "execution_count": null,
   "outputs": [],
   "source": [
    "# plot_figure = get_interactive_umap_embeddings_plot(umap_features, sent_labels, raw_text, legends=sent_labels)\n",
    "# show(plot_figure)"
   ],
   "metadata": {
    "collapsed": false
   }
  },
  {
   "cell_type": "markdown",
   "source": [
    "이번 탐색에서 찾은 예측 성능을 가진 다른 특성은 질문이 영어에 관한 것인지 여부였습니다. 아래는 바로 캡처를 시도하는 기능입니다. 다음은 이런 질문을 잡아내는 특성입니다."
   ],
   "metadata": {
    "collapsed": false
   }
  },
  {
   "cell_type": "code",
   "execution_count": null,
   "outputs": [],
   "source": [
    "df[\"language_question\"] = (df[\"body_text\"].str.contains(\"punctuate\", regex=False) | df[\"body_text\"].str.contains(\"capitalize\", regex=False) | df[\"body_text\"].str.contains(\"abbreviate\", regex=False)).astype(int)"
   ],
   "metadata": {
    "collapsed": false
   }
  },
  {
   "cell_type": "markdown",
   "source": [
    "데이터를 다시 살펴 볼 때 질문의 제목에 관련성 있는 정보가 많다는 것을 알았습니다. 지금까지는 이를 무시했습니다. 다음은 많은 정보를 드러내는 제목을 가진 샘플입니다."
   ],
   "metadata": {
    "collapsed": false
   }
  },
  {
   "cell_type": "code",
   "execution_count": null,
   "outputs": [],
   "source": [
    "df[df[\"body_text\"].str.contains(\"Specifically, how to describe\", regex=False)][[\"body_text\", \"Title\"]]"
   ],
   "metadata": {
    "collapsed": false
   }
  },
  {
   "cell_type": "markdown",
   "source": [
    "제목과 본문을 연결한 다음 이를 다시 임베딩하겠습니다."
   ],
   "metadata": {
    "collapsed": false
   }
  },
  {
   "cell_type": "code",
   "execution_count": null,
   "outputs": [],
   "source": [
    "df[\"full_text\"] = df[\"Title\"].str.cat(df[\"body_text\"], sep=' ', na_rep='')"
   ],
   "metadata": {
    "collapsed": false
   }
  },
  {
   "cell_type": "markdown",
   "source": [
    "동일한 방식으로 전체 텍스트를 사용해 특성을 다시 만듭니다. 자세한 내용은 `ml_editor` 폴더를 참고하세요."
   ],
   "metadata": {
    "collapsed": false
   }
  },
  {
   "cell_type": "code",
   "execution_count": null,
   "outputs": [],
   "source": [
    "df = add_text_features_to_df(df.loc[df[\"is_question\"]].copy())"
   ],
   "metadata": {
    "collapsed": false
   }
  },
  {
   "cell_type": "code",
   "execution_count": null,
   "outputs": [],
   "source": [
    "train_author, test_author = get_split_by_author(df[df[\"is_question\"]])\n",
    "train_labels  = train_author[\"AcceptedAnswerId\"].notna()\n",
    "\n",
    "train_author[\"vectors\"] = train_author[\"full_text\"].apply(lambda x: nlp(x).vector)"
   ],
   "metadata": {
    "collapsed": false
   }
  },
  {
   "cell_type": "code",
   "execution_count": null,
   "outputs": [],
   "source": [
    "vectorized_features = np.append(\n",
    "        np.vstack(train_author[\"vectors\"]),\n",
    "        train_author[\n",
    "            [\n",
    "                \"action_verb_full\",\n",
    "                \"question_mark_full\",\n",
    "                \"norm_text_len\",\n",
    "                \"language_question\",\n",
    "            ]\n",
    "        ],\n",
    "        1,\n",
    "    )"
   ],
   "metadata": {
    "collapsed": false
   }
  },
  {
   "cell_type": "markdown",
   "source": [
    "임베딩을 다시 시각화해 보겠습니다."
   ],
   "metadata": {
    "collapsed": false
   }
  },
  {
   "cell_type": "code",
   "execution_count": null,
   "outputs": [],
   "source": [
    "umap_embedder = umap.UMAP()\n",
    "umap_features = umap_embedder.fit_transform(vectorized_features)"
   ],
   "metadata": {
    "collapsed": false
   }
  },
  {
   "cell_type": "code",
   "execution_count": null,
   "outputs": [],
   "source": [
    "plot_embeddings(umap_features, train_labels)"
   ],
   "metadata": {
    "collapsed": false
   }
  },
  {
   "cell_type": "markdown",
   "source": [
    "위 그림에서 대부분 대답을 얻지 못한 질문을 담고 있는 몇 개의 클러스터가 상단에 고립되어 있는 것을 볼 수 있습니다. 추가된 특성이 클래스를 분할하는데 도움이 되기 때문에 모델의 작업을 쉽게 만들 것입니다.\n",
    "\n",
    "데이터를 더 탐색하고 싶다면 아래 코드의 주석을 제거하고 실행하세요."
   ],
   "metadata": {
    "collapsed": false
   }
  },
  {
   "cell_type": "code",
   "execution_count": null,
   "outputs": [],
   "source": [
    "plot_figure = get_interactive_umap_embeddings_plot(umap_features, sent_labels, raw_text, legends=sent_labels)\n",
    "show(plot_figure)"
   ],
   "metadata": {
    "collapsed": false
   }
  },
  {
   "cell_type": "markdown",
   "source": [
    "예측 성능을 기대하는 후보 특성으로 초기 데이터셋을 만들었습니다. 이제 이 데이터셋에 모델을 훈련하고 성능을 조사하여 반복할 수 있습니다!"
   ],
   "metadata": {
    "collapsed": false
   }
  }
 ],
 "metadata": {
  "kernelspec": {
   "display_name": "Python 3",
   "language": "python",
   "name": "python3"
  },
  "language_info": {
   "codemirror_mode": {
    "name": "ipython",
    "version": 2
   },
   "file_extension": ".py",
   "mimetype": "text/x-python",
   "name": "python",
   "nbconvert_exporter": "python",
   "pygments_lexer": "ipython2",
   "version": "2.7.6"
  }
 },
 "nbformat": 4,
 "nbformat_minor": 0
}
